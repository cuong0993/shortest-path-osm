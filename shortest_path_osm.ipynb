{
 "cells": [
  {
   "cell_type": "code",
   "execution_count": 1,
   "metadata": {},
   "outputs": [],
   "source": [
    "import pandas as pd\n",
    "import geopandas as gpd\n",
    "from shapely.geometry import LineString, Point\n",
    "import osmnx as ox\n",
    "import networkx as nx\n",
    "import matplotlib.pyplot as plt\n"
   ]
  },
  {
   "cell_type": "code",
   "execution_count": null,
   "metadata": {},
   "outputs": [],
   "source": [
    "origin = gpd.GeoDataFrame(\n",
    "    columns=['name', 'geometry'], crs=4326, geometry='geometry')\n",
    "origin.at[0, 'geometry'] = Point(138.9196162, -35.2516865)\n",
    "origin\n"
   ]
  },
  {
   "cell_type": "code",
   "execution_count": null,
   "metadata": {},
   "outputs": [],
   "source": [
    "destination = gpd.GeoDataFrame(\n",
    "    columns=['name', 'geometry'], crs=4326, geometry='geometry')\n",
    "destination.at[0, 'geometry'] = Point(138.4836506, -34.77505378)\n",
    "destination\n"
   ]
  },
  {
   "cell_type": "code",
   "execution_count": 4,
   "metadata": {},
   "outputs": [],
   "source": [
    "def shortest_path_map(origin, destination, network = 'drive'):\n",
    "    '''origin and destination  crs 4326, network  drive, bike, walk\n",
    "    return map including origins, destinations, shortest path and network\n",
    "    '''\n",
    "    \n",
    "    # creating a frame for fetching OSM data\n",
    "    combined = origin.append(destination)\n",
    "    \n",
    "    convex = combined.unary_union.convex_hull\n",
    "    \n",
    "    graph_extent = convex.buffer(0.2)\n",
    "    \n",
    "    # fetching graph\n",
    "    graph = ox.graph_from_polygon(graph_extent, network_type= network)\n",
    "    \n",
    "    # Reproject the graph\n",
    "    graph_proj = ox.project_graph(graph)\n",
    "    \n",
    "    # Get the GeoDataFrame\n",
    "    edges = ox.graph_to_gdfs(graph_proj, nodes=False)\n",
    "    \n",
    "    # Get CRS info UTM\n",
    "    CRS = edges.crs\n",
    "    \n",
    "    # Reproject all data\n",
    "    origin_proj = origin.to_crs(crs=CRS)\n",
    "    destination_proj = destination.to_crs(crs=CRS)\n",
    "    \n",
    "    # routes of shortest path\n",
    "    routes = gpd.GeoDataFrame()\n",
    "    \n",
    "    # Get nodes from the graph\n",
    "    nodes = ox.graph_to_gdfs(graph_proj, edges=False)\n",
    "    \n",
    "    # Iterate over origins and destinations\n",
    "    for oidx, orig in origin_proj.iterrows():\n",
    "        \n",
    "        # Find closest node from the graph --> point = (latitude, longitude)\n",
    "        closest_origin_node = ox.get_nearest_node(G=graph_proj, point=(orig.geometry.y, orig.geometry.x), method='euclidean')\n",
    "        \n",
    "        # Iterate over targets\n",
    "        for tidx, target in destination_proj.iterrows():\n",
    "            # Find closest node from the graph --> point = (latitude, longitude)\n",
    "            closest_target_node = ox.get_nearest_node(graph_proj, point=(target.geometry.y, target.geometry.x), method='euclidean')\n",
    "\n",
    "            # Check if origin and target nodes are the same --> if they are --> skip\n",
    "            if closest_origin_node == closest_target_node:\n",
    "                print(\"Same origin and destination node. Skipping ..\")\n",
    "                continue\n",
    "            \n",
    "            # Find the shortest path between the points\n",
    "            route = nx.shortest_path(graph_proj, \n",
    "                                     source=closest_origin_node, \n",
    "                                     target=closest_target_node, weight='length')\n",
    "        \n",
    "            # Extract the nodes of the route\n",
    "            route_nodes = nodes.loc[route]\n",
    "        \n",
    "            # Create a LineString out of the route\n",
    "            path = LineString(list(route_nodes.geometry.values))\n",
    "        \n",
    "            # Append the result into the GeoDataFrame\n",
    "            routes = routes.append([[path]], ignore_index=True)\n",
    "\n",
    "    # Add a column name\n",
    "    routes.columns = ['geometry']\n",
    "    \n",
    "    # Set geometry\n",
    "    routes = routes.set_geometry('geometry')\n",
    "        \n",
    "    # Set coordinate reference system\n",
    "    routes.crs = nodes.crs\n",
    "\n",
    "    \n",
    "    plt.style.use('seaborn')\n",
    "    \n",
    "    # Plot\n",
    "    ax = edges.plot(figsize=(16, 10), color='gray', linewidth=0.5, alpha=0.7)\n",
    "    ax = origin_proj.plot(ax=ax, color='red') \n",
    "    ax = destination_proj.plot(ax=ax, color='blue')\n",
    "    ax = routes.plot(ax=ax, linewidth=3, alpha = 0.8, color = 'magenta')\n",
    "    \n",
    "    plt.axis('off')\n",
    "    \n",
    "    \n",
    "    return ax\n"
   ]
  },
  {
   "cell_type": "code",
   "execution_count": null,
   "metadata": {},
   "outputs": [],
   "source": [
    "shortest_path_map(origin, destination, 'walk')"
   ]
  }
 ],
 "metadata": {
  "kernelspec": {
   "display_name": "Python 3 (ipykernel)",
   "language": "python",
   "name": "python3"
  },
  "language_info": {
   "codemirror_mode": {
    "name": "ipython",
    "version": 3
   },
   "file_extension": ".py",
   "mimetype": "text/x-python",
   "name": "python",
   "nbconvert_exporter": "python",
   "pygments_lexer": "ipython3",
   "version": "3.9.13"
  },
  "vscode": {
   "interpreter": {
    "hash": "f49206fcf84a9145e7e21228cbafa911d1ac18292303b01e865d8267a9c448f7"
   }
  }
 },
 "nbformat": 4,
 "nbformat_minor": 4
}
